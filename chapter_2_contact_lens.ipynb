{
 "cells": [
  {
   "cell_type": "markdown",
   "metadata": {},
   "source": [
    "# Chaprter 2\n",
    "The contact lens"
   ]
  },
  {
   "cell_type": "code",
   "execution_count": 1,
   "metadata": {},
   "outputs": [],
   "source": [
    "import numpy as np\n",
    "from contact_lens_toolbox import tellmeWTFis # 我讨厌缩写"
   ]
  },
  {
   "cell_type": "markdown",
   "metadata": {},
   "source": [
    "先从BOZR(back optic zone radius, 后光学区半径)开始, 也就是基弧开始, 根据BVP(后顶焦度), t(厚度), n(折射率)来计算, 前光学区半径FOZR"
   ]
  },
  {
   "cell_type": "code",
   "execution_count": 6,
   "metadata": {},
   "outputs": [],
   "source": [
    "def compute_FOZR_from_BVP(BOZR, BVP, t, n):\n",
    "    # 从后表面离开光线的聚散度\n",
    "    L4=BVP\n",
    "    # 后表面界面的屈光度\n",
    "    F0=(1-n)/(BOZR/1000)\n",
    "    # 入射后表面光线的聚散度\n",
    "    L3=L4-F0\n",
    "    # 入射后表面光线的焦距\n",
    "    BD=1000/L3\n",
    "    # 前表面离开光线的焦距\n",
    "    AD=BD+t/n\n",
    "    # 入射前表面的屈光度\n",
    "    L2=1000/AD\n",
    "    # 平行光入射, 所以前表面屈光度与L2相等\n",
    "    Fa0=L2\n",
    "    # 前表面曲率半径\n",
    "    ra0=(n-1)/(Fa0)*1000\n",
    "    return ra0"
   ]
  },
  {
   "cell_type": "markdown",
   "metadata": {},
   "source": [
    "如果是根据整个透镜的有效屈光度"
   ]
  },
  {
   "cell_type": "code",
   "execution_count": 20,
   "metadata": {},
   "outputs": [],
   "source": [
    "def compute_FOZR_from_power(BOVR, Fv, tc, n):\n",
    "    '''\n",
    "    计算透镜前表面曲率半径\n",
    "    Fv: 透镜前后表面合并的屈光度\n",
    "    ro: 透镜后表面曲率半径\n",
    "    tc: 透镜厚度\n",
    "    n: 透镜折射率\n",
    "    '''\n",
    "    Fo=1000*(1-n)/BOVR\n",
    "    Fao=(Fv-Fo)/(1-(tc/1000)/n*Fo)\n",
    "    rao=1000*(n-1)/Fao\n",
    "    return rao"
   ]
  },
  {
   "cell_type": "code",
   "execution_count": 22,
   "metadata": {},
   "outputs": [
    {
     "data": {
      "text/plain": [
       "9.234175765442467"
      ]
     },
     "execution_count": 22,
     "metadata": {},
     "output_type": "execute_result"
    }
   ],
   "source": [
    "compute_FOZR_from_power(8.6,-3, 0.135, 1.4)"
   ]
  },
  {
   "cell_type": "markdown",
   "metadata": {},
   "source": [
    "无焦厚透镜时"
   ]
  },
  {
   "cell_type": "code",
   "execution_count": 9,
   "metadata": {},
   "outputs": [],
   "source": [
    "def afocal_radius(r,t,n):\n",
    "    return r+(n-1)/n*t"
   ]
  },
  {
   "cell_type": "markdown",
   "metadata": {},
   "source": [
    "软镜改变基弧时, "
   ]
  },
  {
   "cell_type": "code",
   "execution_count": 15,
   "metadata": {},
   "outputs": [],
   "source": [
    "def delta_power_in_BC_to_cornea(BOZR, t, cornea_radius):\n",
    "    return -300*t*(1/(cornea_radius**2)-1/(BOZR**2))\n",
    "def delta_power_in_different_BC(BOZR_before, BOZR_after, t, cornea_radius):\n",
    "    return (delta_power_in_BC_to_cornea(BOZR_after, t, cornea_radius) -\n",
    "           delta_power_in_BC_to_cornea(BOZR_before, t, cornea_radius))"
   ]
  },
  {
   "cell_type": "markdown",
   "metadata": {},
   "source": [
    "例如: t = 0.3 mm, r2’ = 7.60 mm, r2 = 8.70 mm 变到 8.30mm"
   ]
  },
  {
   "cell_type": "code",
   "execution_count": 16,
   "metadata": {},
   "outputs": [
    {
     "data": {
      "text/plain": [
       "0.08644956198888554"
      ]
     },
     "execution_count": 16,
     "metadata": {},
     "output_type": "execute_result"
    }
   ],
   "source": [
    "delta_power_in_different_BC(8.7, 8.4, 0.3, 7.6)"
   ]
  },
  {
   "cell_type": "code",
   "execution_count": null,
   "metadata": {},
   "outputs": [],
   "source": []
  }
 ],
 "metadata": {
  "kernelspec": {
   "display_name": "Python 3",
   "language": "python",
   "name": "python3"
  },
  "language_info": {
   "codemirror_mode": {
    "name": "ipython",
    "version": 3
   },
   "file_extension": ".py",
   "mimetype": "text/x-python",
   "name": "python",
   "nbconvert_exporter": "python",
   "pygments_lexer": "ipython3",
   "version": "3.7.6"
  }
 },
 "nbformat": 4,
 "nbformat_minor": 4
}
