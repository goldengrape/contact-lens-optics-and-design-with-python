{
 "cells": [
  {
   "cell_type": "markdown",
   "metadata": {},
   "source": [
    "compute standard surface "
   ]
  },
  {
   "cell_type": "code",
   "execution_count": 1,
   "metadata": {},
   "outputs": [],
   "source": [
    "import math"
   ]
  },
  {
   "cell_type": "code",
   "execution_count": 2,
   "metadata": {},
   "outputs": [],
   "source": [
    "def standard_surface(r1, ecc1, r):\n",
    "    '''\n",
    "    standard surface sag\n",
    "    '''\n",
    "    d5=r*2\n",
    "    sag1a = 1/r1 * (d5/2)*(d5/2)\n",
    "    if ecc1 >=0:\n",
    "        sag1b = 1 + math.sqrt( 1 - ( ((1/r1)*(1/r1)) * ((d5/2)*(d5/2)) * (1 - ecc1*ecc1) ))\n",
    "    if ecc1 <0:\n",
    "        sag1b = 1 + math.sqrt( 1 - ( ((1/r1)*(1/r1)) * ((d5/2)*(d5/2)) * (1 + ecc1*ecc1) ))\n",
    "    sag1 = sag1a/sag1b\n",
    "    return sag1"
   ]
  },
  {
   "cell_type": "code",
   "execution_count": 3,
   "metadata": {},
   "outputs": [],
   "source": [
    "def radius_of_front_surface(Fv, ro, tc, n):\n",
    "    '''\n",
    "    Calculate the radius of the front surface of the lens\n",
    "    Fv: Power of the combined front and back surfaces of the lens\n",
    "    ro: Radius of the back surface of the lens\n",
    "    tc: Lens thickness in mm, that's why so many 1000 here\n",
    "    n: Refractive index of lens\n",
    "    '''\n",
    "    Fo=1000*(1-n)/ro\n",
    "    Fao=(Fv-Fo)/(1-(tc/1000)/n*Fo)\n",
    "    rao=1000*(n-1)/Fao\n",
    "    return rao"
   ]
  },
  {
   "cell_type": "code",
   "execution_count": 4,
   "metadata": {},
   "outputs": [],
   "source": [
    "def thickness(sag_front, sag_back, center_thickness):\n",
    "    return center_thickness+ sag_back-sag_front"
   ]
  },
  {
   "cell_type": "code",
   "execution_count": 5,
   "metadata": {},
   "outputs": [],
   "source": [
    "def print_out_info(front_radius,\n",
    "                   front_e,\n",
    "                   back_radius,\n",
    "                   back_e,\n",
    "                   center_thickness,\n",
    "                   n,\n",
    "                   r):\n",
    "    front_sag=standard_surface(front_radius, front_e, r)\n",
    "    back_sag=standard_surface(back_radius, back_e, r)\n",
    "    thickness_at_edge=thickness(front_sag, back_sag, center_thickness)\n",
    "    \n",
    "    print(f\"\\\n",
    "front surface radius = \\t {front_radius:2.4f}\\n\\\n",
    "front surface ecc = \\t  {front_e:2.4f}\\n\\\n",
    "back surface radius =  \\t {back_radius:2.4f}\\n\\\n",
    "back surface ecc = \\t  {back_e:2.4f}\\n\\\n",
    "\\n\\\n",
    "center thickness= \\t {center_thickness:2.4f}\\n\\\n",
    "Sag of front edge({r:2.2f}mm)= \\t {front_sag:2.4f}\\n\\\n",
    "Sag of back edge({r:2.2f}mm)= \\t {back_sag:2.4f}\\n\\\n",
    "edge thickness= \\t {thickness_at_edge:2.4f}\")\n"
   ]
  }
 ],
 "metadata": {
  "kernelspec": {
   "display_name": "Python 3",
   "language": "python",
   "name": "python3"
  },
  "language_info": {
   "codemirror_mode": {
    "name": "ipython",
    "version": 3
   },
   "file_extension": ".py",
   "mimetype": "text/x-python",
   "name": "python",
   "nbconvert_exporter": "python",
   "pygments_lexer": "ipython3",
   "version": "3.7.6"
  }
 },
 "nbformat": 4,
 "nbformat_minor": 4
}
