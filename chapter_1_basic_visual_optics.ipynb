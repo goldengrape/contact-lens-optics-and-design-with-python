{
 "cells": [
  {
   "cell_type": "markdown",
   "metadata": {},
   "source": [
    "# 基础视光学"
   ]
  },
  {
   "cell_type": "markdown",
   "metadata": {},
   "source": [
    "## 聚散度与屈光度 "
   ]
  },
  {
   "cell_type": "code",
   "execution_count": 1,
   "metadata": {},
   "outputs": [],
   "source": [
    "import numpy as np\n",
    "from contact_lens_toolbox import tellmeWTFis # 我讨厌缩写"
   ]
  },
  {
   "cell_type": "code",
   "execution_count": 2,
   "metadata": {},
   "outputs": [],
   "source": [
    "def focal_lenth_to_lens_power(F, n=1):\n",
    "    if F==0:\n",
    "        return np.inf\n",
    "    elif np.isinf(F):\n",
    "        return 0\n",
    "    else:\n",
    "        return n/F\n",
    "def lens_power_to_focal_length(P, n=1):\n",
    "    if P==0:\n",
    "        return np.inf\n",
    "    elif np.isinf(P):\n",
    "        return 0\n",
    "    else :\n",
    "        return n/P"
   ]
  },
  {
   "cell_type": "markdown",
   "metadata": {},
   "source": [
    "## 调节"
   ]
  },
  {
   "cell_type": "code",
   "execution_count": 3,
   "metadata": {},
   "outputs": [],
   "source": [
    "def accommodation(near_point, far_point):\n",
    "    return focal_lenth_to_lens_power(far_point)-focal_lenth_to_lens_power(near_point)"
   ]
  },
  {
   "cell_type": "markdown",
   "metadata": {},
   "source": [
    "## reduced 厚度"
   ]
  },
  {
   "cell_type": "code",
   "execution_count": 5,
   "metadata": {},
   "outputs": [],
   "source": [
    "def reduced_thickness(t,n=1):\n",
    "    return t/n"
   ]
  },
  {
   "cell_type": "markdown",
   "metadata": {},
   "source": [
    "## 眼镜放大率\n",
    "$$\n",
    "放大率= \\frac{眼球实际屈光度}{眼镜屈光度}=\\frac{1}{1-x BVP}=power factor\n",
    "$$\n",
    "\n",
    "* BVP: back vertex power, 后顶焦度\n",
    "* x: 后顶点到眼球入瞳的距离(单位为米)"
   ]
  },
  {
   "cell_type": "code",
   "execution_count": 7,
   "metadata": {},
   "outputs": [],
   "source": [
    "def magnification(BVP, x):\n",
    "    return 1/(1-x*BVP)"
   ]
  },
  {
   "cell_type": "markdown",
   "metadata": {},
   "source": [
    "## 等效屈光度与后顶焦度\n",
    "\n",
    "隐形眼镜应当被视为厚透镜, 用两个主面来替代, 从后主面到焦点距离为有效焦距EFFL, 对应屈光度为等效屈光度;\n",
    "从后顶点到焦点, 对应的是后顶焦度BVP;\n",
    "\n",
    "中文书籍《接触镜学》第3版, 中未做区分. \n"
   ]
  },
  {
   "cell_type": "code",
   "execution_count": 13,
   "metadata": {},
   "outputs": [
    {
     "name": "stdout",
     "output_type": "stream",
     "text": [
      "   abbreviation          dimension  explain\n",
      "17          BVP  Back vertex power     后顶焦度\n"
     ]
    }
   ],
   "source": [
    "tellmeWTFis(\"BVP\")"
   ]
  },
  {
   "cell_type": "code",
   "execution_count": 12,
   "metadata": {},
   "outputs": [],
   "source": [
    "def equivalent_power(F1, F2, t, n):\n",
    "    '''\n",
    "    等效屈光度计算:\n",
    "    从主平面得到的有效焦距(EFFL)换算出的屈光度\n",
    "    F1, 前表面屈光度, \n",
    "    F2, 后表面屈光度\n",
    "    t, 中央厚度\n",
    "    n, 折射率\n",
    "    注意: 中文书籍中, 似乎没有区分back_vertex_power和equivalent_power, \n",
    "    注意, 中文书籍中, 是用equivalent_power来计算back_vertex_power\n",
    "    '''\n",
    "    return (F1+F2-(t/n)*F1*F2)\n",
    "def shape_factor(F1,t,n):\n",
    "    '''\n",
    "    F1, 前表面屈光度, \n",
    "    t, 中央厚度\n",
    "    n, 折射率\n",
    "    '''\n",
    "    return 1/(1-(t/n)*F1)\n",
    "def back_vertex_power(F1, F2, t, n):\n",
    "    '''\n",
    "    后顶焦度计算:\n",
    "    F1, 前表面屈光度, \n",
    "    F2, 后表面屈光度\n",
    "    t, 中央厚度\n",
    "    n, 折射率\n",
    "    注意: 中文书籍中, 似乎没有区分back_vertex_power和equivalent_power, \n",
    "    注意, 中文书籍中, 是用equivalent_power来计算back_vertex_power\n",
    "    '''\n",
    "    return equivalent_power(F1, F2, t, n)*shape_factor(F1,t,n)\n"
   ]
  },
  {
   "cell_type": "code",
   "execution_count": 15,
   "metadata": {},
   "outputs": [],
   "source": [
    "def P(R, n, n0=1):\n",
    "    return (n-n0)/(R/1000)"
   ]
  }
 ],
 "metadata": {
  "kernelspec": {
   "display_name": "Python 3",
   "language": "python",
   "name": "python3"
  },
  "language_info": {
   "codemirror_mode": {
    "name": "ipython",
    "version": 3
   },
   "file_extension": ".py",
   "mimetype": "text/x-python",
   "name": "python",
   "nbconvert_exporter": "python",
   "pygments_lexer": "ipython3",
   "version": "3.7.6"
  }
 },
 "nbformat": 4,
 "nbformat_minor": 4
}
